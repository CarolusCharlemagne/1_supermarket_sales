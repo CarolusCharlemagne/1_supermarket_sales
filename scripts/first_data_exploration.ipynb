{
 "cells": [
  {
   "cell_type": "code",
   "execution_count": 1,
   "metadata": {},
   "outputs": [],
   "source": [
    "from config import * # import config\n",
    "\n",
    "from libs.data_loader import DataLoader\n",
    "from libs.colors import PersoColo as persocolo\n",
    "from libs.graphics_creator import *\n",
    "\n",
    "\n",
    "raw = DataLoader(RAW_DATA_PATH).get_df() # load data \n",
    "clean = DataLoader(CLEAN_DATA_PATH).get_df() \n",
    "cleanadj = DataLoader(CLEAN_ADJ_DATA_PATH).get_df() "
   ]
  },
  {
   "cell_type": "code",
   "execution_count": 2,
   "metadata": {},
   "outputs": [
    {
     "name": "stdout",
     "output_type": "stream",
     "text": [
      "count sum Portugal = countries\n",
      "portugal    190825\n",
      "Name: count, dtype: int64, Portugal population = 10196709.0\n"
     ]
    }
   ],
   "source": [
    "print(f'count sum Portugal = {cleanadj[cleanadj['countries'] == 'portugal'].groupby('countries')['count'].sum()}, Portugal population = {cleanadj.loc[cleanadj['countries'] == 'portugal', 'pop'].iloc[0]}')"
   ]
  },
  {
   "cell_type": "code",
   "execution_count": 3,
   "metadata": {},
   "outputs": [
    {
     "data": {
      "text/html": [
       "<div>\n",
       "<style scoped>\n",
       "    .dataframe tbody tr th:only-of-type {\n",
       "        vertical-align: middle;\n",
       "    }\n",
       "\n",
       "    .dataframe tbody tr th {\n",
       "        vertical-align: top;\n",
       "    }\n",
       "\n",
       "    .dataframe thead th {\n",
       "        text-align: right;\n",
       "    }\n",
       "</style>\n",
       "<table border=\"1\" class=\"dataframe\">\n",
       "  <thead>\n",
       "    <tr style=\"text-align: right;\">\n",
       "      <th></th>\n",
       "      <th>Gender</th>\n",
       "      <th>Count</th>\n",
       "      <th>Countries</th>\n",
       "      <th>Countries Code</th>\n",
       "      <th>Date</th>\n",
       "    </tr>\n",
       "  </thead>\n",
       "  <tbody>\n",
       "    <tr>\n",
       "      <th>0</th>\n",
       "      <td>male</td>\n",
       "      <td>740</td>\n",
       "      <td>ivory coast</td>\n",
       "      <td>ci</td>\n",
       "      <td>11/15/2020</td>\n",
       "    </tr>\n",
       "    <tr>\n",
       "      <th>1</th>\n",
       "      <td>male</td>\n",
       "      <td>429</td>\n",
       "      <td>cuba</td>\n",
       "      <td>cu</td>\n",
       "      <td>8/23/2020</td>\n",
       "    </tr>\n",
       "    <tr>\n",
       "      <th>2</th>\n",
       "      <td>male</td>\n",
       "      <td>688</td>\n",
       "      <td>bulgaria</td>\n",
       "      <td>bg</td>\n",
       "      <td>7/26/2020</td>\n",
       "    </tr>\n",
       "    <tr>\n",
       "      <th>3</th>\n",
       "      <td>male</td>\n",
       "      <td>731</td>\n",
       "      <td>france</td>\n",
       "      <td>fr</td>\n",
       "      <td>10/23/2020</td>\n",
       "    </tr>\n",
       "    <tr>\n",
       "      <th>4</th>\n",
       "      <td>female</td>\n",
       "      <td>837</td>\n",
       "      <td>brazil</td>\n",
       "      <td>br</td>\n",
       "      <td>7/15/2020</td>\n",
       "    </tr>\n",
       "  </tbody>\n",
       "</table>\n",
       "</div>"
      ],
      "text/plain": [
       "   Gender  Count    Countries Countries Code        Date\n",
       "0    male    740  ivory coast             ci  11/15/2020\n",
       "1    male    429         cuba             cu   8/23/2020\n",
       "2    male    688     bulgaria             bg   7/26/2020\n",
       "3    male    731       france             fr  10/23/2020\n",
       "4  female    837       brazil             br   7/15/2020"
      ]
     },
     "execution_count": 3,
     "metadata": {},
     "output_type": "execute_result"
    }
   ],
   "source": [
    "raw.head(5)"
   ]
  },
  {
   "cell_type": "code",
   "execution_count": 4,
   "metadata": {},
   "outputs": [
    {
     "data": {
      "text/html": [
       "<div>\n",
       "<style scoped>\n",
       "    .dataframe tbody tr th:only-of-type {\n",
       "        vertical-align: middle;\n",
       "    }\n",
       "\n",
       "    .dataframe tbody tr th {\n",
       "        vertical-align: top;\n",
       "    }\n",
       "\n",
       "    .dataframe thead th {\n",
       "        text-align: right;\n",
       "    }\n",
       "</style>\n",
       "<table border=\"1\" class=\"dataframe\">\n",
       "  <thead>\n",
       "    <tr style=\"text-align: right;\">\n",
       "      <th></th>\n",
       "      <th>gender</th>\n",
       "      <th>count</th>\n",
       "      <th>countries</th>\n",
       "      <th>countries_code</th>\n",
       "      <th>date</th>\n",
       "    </tr>\n",
       "  </thead>\n",
       "  <tbody>\n",
       "    <tr>\n",
       "      <th>0</th>\n",
       "      <td>0</td>\n",
       "      <td>763</td>\n",
       "      <td>south korea</td>\n",
       "      <td>47</td>\n",
       "      <td>06/26/2020</td>\n",
       "    </tr>\n",
       "    <tr>\n",
       "      <th>1</th>\n",
       "      <td>0</td>\n",
       "      <td>9</td>\n",
       "      <td>bosnia and herzegovina</td>\n",
       "      <td>118</td>\n",
       "      <td>10/06/2020</td>\n",
       "    </tr>\n",
       "    <tr>\n",
       "      <th>2</th>\n",
       "      <td>0</td>\n",
       "      <td>219</td>\n",
       "      <td>portugal</td>\n",
       "      <td>10</td>\n",
       "      <td>08/10/2020</td>\n",
       "    </tr>\n",
       "    <tr>\n",
       "      <th>3</th>\n",
       "      <td>1</td>\n",
       "      <td>539</td>\n",
       "      <td>indonesia</td>\n",
       "      <td>1</td>\n",
       "      <td>10/12/2020</td>\n",
       "    </tr>\n",
       "    <tr>\n",
       "      <th>4</th>\n",
       "      <td>0</td>\n",
       "      <td>426</td>\n",
       "      <td>philippines</td>\n",
       "      <td>23</td>\n",
       "      <td>05/06/2020</td>\n",
       "    </tr>\n",
       "  </tbody>\n",
       "</table>\n",
       "</div>"
      ],
      "text/plain": [
       "   gender  count               countries  countries_code        date\n",
       "0       0    763             south korea              47  06/26/2020\n",
       "1       0      9  bosnia and herzegovina             118  10/06/2020\n",
       "2       0    219                portugal              10  08/10/2020\n",
       "3       1    539               indonesia               1  10/12/2020\n",
       "4       0    426             philippines              23  05/06/2020"
      ]
     },
     "execution_count": 4,
     "metadata": {},
     "output_type": "execute_result"
    }
   ],
   "source": [
    "clean.head(5)"
   ]
  },
  {
   "cell_type": "code",
   "execution_count": 5,
   "metadata": {},
   "outputs": [
    {
     "data": {
      "text/html": [
       "<div>\n",
       "<style scoped>\n",
       "    .dataframe tbody tr th:only-of-type {\n",
       "        vertical-align: middle;\n",
       "    }\n",
       "\n",
       "    .dataframe tbody tr th {\n",
       "        vertical-align: top;\n",
       "    }\n",
       "\n",
       "    .dataframe thead th {\n",
       "        text-align: right;\n",
       "    }\n",
       "</style>\n",
       "<table border=\"1\" class=\"dataframe\">\n",
       "  <thead>\n",
       "    <tr style=\"text-align: right;\">\n",
       "      <th></th>\n",
       "      <th>countries</th>\n",
       "      <th>count</th>\n",
       "      <th>countries_code</th>\n",
       "      <th>pop</th>\n",
       "      <th>ratio</th>\n",
       "    </tr>\n",
       "  </thead>\n",
       "  <tbody>\n",
       "    <tr>\n",
       "      <th>0</th>\n",
       "      <td>swaziland</td>\n",
       "      <td>1986</td>\n",
       "      <td>103</td>\n",
       "      <td>1160164.0</td>\n",
       "      <td>0.001712</td>\n",
       "    </tr>\n",
       "    <tr>\n",
       "      <th>1</th>\n",
       "      <td>panama</td>\n",
       "      <td>10362</td>\n",
       "      <td>39</td>\n",
       "      <td>4314767.0</td>\n",
       "      <td>0.002402</td>\n",
       "    </tr>\n",
       "    <tr>\n",
       "      <th>2</th>\n",
       "      <td>yemen</td>\n",
       "      <td>17858</td>\n",
       "      <td>102</td>\n",
       "      <td>29825964.0</td>\n",
       "      <td>0.000599</td>\n",
       "    </tr>\n",
       "    <tr>\n",
       "      <th>3</th>\n",
       "      <td>nigeria</td>\n",
       "      <td>47703</td>\n",
       "      <td>36</td>\n",
       "      <td>206139589.0</td>\n",
       "      <td>0.000231</td>\n",
       "    </tr>\n",
       "    <tr>\n",
       "      <th>4</th>\n",
       "      <td>tonga</td>\n",
       "      <td>1024</td>\n",
       "      <td>188</td>\n",
       "      <td>105695.0</td>\n",
       "      <td>0.009688</td>\n",
       "    </tr>\n",
       "  </tbody>\n",
       "</table>\n",
       "</div>"
      ],
      "text/plain": [
       "   countries  count  countries_code          pop     ratio\n",
       "0  swaziland   1986             103    1160164.0  0.001712\n",
       "1     panama  10362              39    4314767.0  0.002402\n",
       "2      yemen  17858             102   29825964.0  0.000599\n",
       "3    nigeria  47703              36  206139589.0  0.000231\n",
       "4      tonga   1024             188     105695.0  0.009688"
      ]
     },
     "execution_count": 5,
     "metadata": {},
     "output_type": "execute_result"
    }
   ],
   "source": [
    "cleanadj.head(5)"
   ]
  },
  {
   "cell_type": "code",
   "execution_count": 6,
   "metadata": {},
   "outputs": [
    {
     "data": {
      "image/png": "[encoded data removed]",
      "text/plain": [
       "<Figure size 800x1450 with 1 Axes>"
      ]
     },
     "metadata": {},
     "output_type": "display_data"
    }
   ],
   "source": [
    "colors = {name: getattr(persocolo, name) for name in dir(persocolo) if not name.startswith('__')}\n",
    "\n",
    "# Affichez chaque couleur\n",
    "plt.figure(figsize=(8, len(colors) * 0.5))\n",
    "for i, (name, color) in enumerate(colors.items()):\n",
    "    plt.fill_between([0, 10], i, i + 1, color=color)\n",
    "    plt.text(5, i + 0.5, name, ha=\"center\", va=\"center\", fontsize=10, color=\"black\")\n",
    "plt.xlim(0, 10)\n",
    "plt.ylim(0, len(colors))\n",
    "plt.axis(\"off\")\n",
    "plt.show()"
   ]
  },
  {
   "cell_type": "code",
   "execution_count": null,
   "metadata": {},
   "outputs": [],
   "source": []
  }
 ],
 "metadata": {
  "kernelspec": {
   "display_name": "world_alcohol_consumption_0",
   "language": "python",
   "name": "python3"
  },
  "language_info": {
   "codemirror_mode": {
    "name": "ipython",
    "version": 3
   },
   "file_extension": ".py",
   "mimetype": "text/x-python",
   "name": "python",
   "nbconvert_exporter": "python",
   "pygments_lexer": "ipython3",
   "version": "3.12.7"
  }
 },
 "nbformat": 4,
 "nbformat_minor": 2
}
